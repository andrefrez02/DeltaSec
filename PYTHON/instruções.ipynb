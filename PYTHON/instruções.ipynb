{
 "cells": [
  {
   "cell_type": "markdown",
   "metadata": {},
   "source": [
    "<style>\n",
    "    @import url('https://fonts.googleapis.com/css2?family=Anonymous+Pro:wght@700&display=swap');\n",
    "    #body, #header{\n",
    "        font-family: 'Anonymous Pro', monospace;\n",
    "        font-weight: bolder;\n",
    "        text-align: center;\n",
    "        display: flex;\n",
    "        align-items: center;\n",
    "        justify-content: center;\n",
    "        background-color: white;\n",
    "    }\n",
    "</style>\n",
    "<div id=\"header\">\n",
    "    <h1 style=\"color: #0404bb; font-weight: bolder;\">ATIVIDADE INTERDISCIPLINAR</h1>\n",
    "</div>\n",
    "<div id=\"body\">\n",
    "    <p style=\"color: #0404bb;\">\n",
    "        Crie seu próprio arquivo para não atrapalhar o colega. <br><br>\n",
    "        FAÇA OS TESTES AQUI: '\n",
    "        <a href=\"AMBIENTE DE TESTES.py\" style=\"color: orange;\">AMBIENTE DE TESTES.py</a>\n",
    "        ' 👍 <br>\n",
    "        ABRA O TERMINAL E DIGITE:<br>\n",
    "        <span style=\"color: red; font-size: 128px; font-weight: bolder;\">&#129047;</span>\n",
    "    </p>\n",
    "    \n",
    "</div>"
   ]
  },
  {
   "cell_type": "code",
   "execution_count": null,
   "metadata": {},
   "outputs": [],
   "source": [
    "digite_isso_no_terminal = '      & \"C:/Program Files/Python310/python.exe\" \"c:/Users/autologon/Documents/DeltaSec/PYTHON/AMBIENTE DE TESTES.py\"      '"
   ]
  },
  {
   "cell_type": "markdown",
   "metadata": {},
   "source": [
    "<style>\n",
    "    #img{\n",
    "        display: flex;\n",
    "        justify-content: center;\n",
    "        align-items: center;\n",
    "        padding: 0;\n",
    "        border: 5px solid white\n",
    "    }\n",
    "</style>\n",
    "<div id=img>\n",
    "    <img src=\"../imagens/ins01.jpg\" alt=\"\" srcset=\"\" style=\"width: 75%; height: 75%\">\n",
    "</div>"
   ]
  }
 ],
 "metadata": {
  "interpreter": {
   "hash": "b89b5cfaba6639976dc87ff2fec6d58faec662063367e2c229c520fe71072417"
  },
  "kernelspec": {
   "display_name": "Python 3.10.2 64-bit",
   "language": "python",
   "name": "python3"
  },
  "language_info": {
   "codemirror_mode": {
    "name": "ipython",
    "version": 3
   },
   "file_extension": ".py",
   "mimetype": "text/x-python",
   "name": "python",
   "nbconvert_exporter": "python",
   "pygments_lexer": "ipython3",
   "version": "3.10.2"
  },
  "orig_nbformat": 4
 },
 "nbformat": 4,
 "nbformat_minor": 2
}
